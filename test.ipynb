{
 "cells": [
  {
   "cell_type": "code",
   "execution_count": 1,
   "id": "3608f0ab",
   "metadata": {},
   "outputs": [],
   "source": [
    "from pprint import pprint"
   ]
  },
  {
   "cell_type": "code",
   "execution_count": 2,
   "id": "bf611912",
   "metadata": {},
   "outputs": [],
   "source": [
    "text='''Translate your website into 120+ languages with multilingual SEO, automatically generating language-specific URLs, hreflang tags, and translated metadata. MultiLipi offers AI-powered translation, seamless integrations with popular platforms, and a user-friendly dashboard for managing multilingual content and SEO.'''"
   ]
  },
  {
   "cell_type": "code",
   "execution_count": 3,
   "id": "5dbcbc74",
   "metadata": {},
   "outputs": [
    {
     "name": "stdout",
     "output_type": "stream",
     "text": [
      "('Translate your website into 120+ languages with multilingual SEO, '\n",
      " 'automatically generating language-specific URLs, hreflang tags, and '\n",
      " 'translated metadata. MultiLipi offers AI-powered translation, seamless '\n",
      " 'integrations with popular platforms, and a user-friendly dashboard for '\n",
      " 'managing multilingual content and SEO.')\n"
     ]
    }
   ],
   "source": [
    "pprint(text)"
   ]
  },
  {
   "cell_type": "code",
   "execution_count": 4,
   "id": "9e2f873a",
   "metadata": {},
   "outputs": [],
   "source": [
    "import ollama\n",
    "response = ollama.chat(\n",
    "    model=\"gemma3:4b\",\n",
    "    messages=[\n",
    "        {\"role\": \"system\", \"content\": f'''This is the summaryu of a website.{text}. the user have some issues with the content of the website. The user will provide the issue type and the element that needs to be fixed. You need to provide a solution for the issue based on the content of the website.Give the user the correct statement that should replace the current text . The solution should be in a single line and should not contain any code or HTML tags. The solution should be in English.'''},\n",
    "        {\"role\": \"user\", \"content\": f\"issue_type:Title could be optimized,issue_decription:Title is 60 characters, ideal range is 150-160,current_contetn:MultiLipi| Translate Website in 5 Mins with Multilingual SEO\"}\n",
    "    ]\n",
    ")"
   ]
  },
  {
   "cell_type": "code",
   "execution_count": 7,
   "id": "6967ada7",
   "metadata": {},
   "outputs": [
    {
     "name": "stdout",
     "output_type": "stream",
     "text": [
      "('MultiLipi delivers website translation with multilingual SEO, automating '\n",
      " 'URLs, metadata, and AI-powered content.')\n"
     ]
    }
   ],
   "source": [
    "pprint(response['message']['content'])"
   ]
  },
  {
   "cell_type": "code",
   "execution_count": null,
   "id": "ae389bf7",
   "metadata": {},
   "outputs": [],
   "source": []
  }
 ],
 "metadata": {
  "kernelspec": {
   "display_name": ".venv",
   "language": "python",
   "name": "python3"
  },
  "language_info": {
   "codemirror_mode": {
    "name": "ipython",
    "version": 3
   },
   "file_extension": ".py",
   "mimetype": "text/x-python",
   "name": "python",
   "nbconvert_exporter": "python",
   "pygments_lexer": "ipython3",
   "version": "3.11.4"
  }
 },
 "nbformat": 4,
 "nbformat_minor": 5
}
