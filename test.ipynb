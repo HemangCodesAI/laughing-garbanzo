{
 "cells": [
  {
   "cell_type": "code",
   "execution_count": 1,
   "id": "3608f0ab",
   "metadata": {},
   "outputs": [],
   "source": [
    "from pprint import pprint"
   ]
  },
  {
   "cell_type": "code",
   "execution_count": 2,
   "id": "bf611912",
   "metadata": {},
   "outputs": [],
   "source": [
    "text='''Translate your website into 120+ languages with multilingual SEO, automatically generating language-specific URLs, hreflang tags, and translated metadata. MultiLipi offers AI-powered translation, seamless integrations with popular platforms, and a user-friendly dashboard for managing multilingual content and SEO.'''"
   ]
  },
  {
   "cell_type": "code",
   "execution_count": 3,
   "id": "5dbcbc74",
   "metadata": {},
   "outputs": [
    {
     "name": "stdout",
     "output_type": "stream",
     "text": [
      "('Translate your website into 120+ languages with multilingual SEO, '\n",
      " 'automatically generating language-specific URLs, hreflang tags, and '\n",
      " 'translated metadata. MultiLipi offers AI-powered translation, seamless '\n",
      " 'integrations with popular platforms, and a user-friendly dashboard for '\n",
      " 'managing multilingual content and SEO.')\n"
     ]
    }
   ],
   "source": [
    "pprint(text)"
   ]
  },
  {
   "cell_type": "code",
   "execution_count": 4,
   "id": "9e2f873a",
   "metadata": {},
   "outputs": [],
   "source": [
    "import ollama\n",
    "response = ollama.chat(\n",
    "    model=\"gemma3:4b\",\n",
    "    messages=[\n",
    "        {\"role\": \"system\", \"content\": f'''This is the summaryu of a website.{text}. the user have some issues with the content of the website. The user will provide the issue type and the element that needs to be fixed. You need to provide a solution for the issue based on the content of the website.Give the user the correct statement that should replace the current text . The solution should be in a single line and should not contain any code or HTML tags. The solution should be in English.'''},\n",
    "        {\"role\": \"user\", \"content\": f\"issue_type:Title could be optimized,issue_decription:Title is 60 characters, ideal range is 150-160,current_contetn:MultiLipi| Translate Website in 5 Mins with Multilingual SEO\"}\n",
    "    ]\n",
    ")"
   ]
  },
  {
   "cell_type": "code",
   "execution_count": 7,
   "id": "6967ada7",
   "metadata": {},
   "outputs": [
    {
     "name": "stdout",
     "output_type": "stream",
     "text": [
      "('MultiLipi delivers website translation with multilingual SEO, automating '\n",
      " 'URLs, metadata, and AI-powered content.')\n"
     ]
    }
   ],
   "source": [
    "pprint(response['message']['content'])"
   ]
  },
  {
   "cell_type": "code",
   "execution_count": 36,
   "id": "d90f65ec",
   "metadata": {},
   "outputs": [
    {
     "name": "stdout",
     "output_type": "stream",
     "text": [
      "Requirement already satisfied: openai in d:\\work\\multililpi\\laughing-garbanzo\\.venv\\lib\\site-packages (1.93.3)\n",
      "Requirement already satisfied: anyio<5,>=3.5.0 in d:\\work\\multililpi\\laughing-garbanzo\\.venv\\lib\\site-packages (from openai) (4.9.0)\n",
      "Requirement already satisfied: distro<2,>=1.7.0 in d:\\work\\multililpi\\laughing-garbanzo\\.venv\\lib\\site-packages (from openai) (1.9.0)\n",
      "Requirement already satisfied: httpx<1,>=0.23.0 in d:\\work\\multililpi\\laughing-garbanzo\\.venv\\lib\\site-packages (from openai) (0.28.1)\n",
      "Requirement already satisfied: jiter<1,>=0.4.0 in d:\\work\\multililpi\\laughing-garbanzo\\.venv\\lib\\site-packages (from openai) (0.10.0)\n",
      "Requirement already satisfied: pydantic<3,>=1.9.0 in d:\\work\\multililpi\\laughing-garbanzo\\.venv\\lib\\site-packages (from openai) (2.11.7)\n",
      "Requirement already satisfied: sniffio in d:\\work\\multililpi\\laughing-garbanzo\\.venv\\lib\\site-packages (from openai) (1.3.1)\n",
      "Requirement already satisfied: tqdm>4 in d:\\work\\multililpi\\laughing-garbanzo\\.venv\\lib\\site-packages (from openai) (4.67.1)\n",
      "Requirement already satisfied: typing-extensions<5,>=4.11 in d:\\work\\multililpi\\laughing-garbanzo\\.venv\\lib\\site-packages (from openai) (4.14.0)\n",
      "Requirement already satisfied: idna>=2.8 in d:\\work\\multililpi\\laughing-garbanzo\\.venv\\lib\\site-packages (from anyio<5,>=3.5.0->openai) (3.10)\n",
      "Requirement already satisfied: certifi in d:\\work\\multililpi\\laughing-garbanzo\\.venv\\lib\\site-packages (from httpx<1,>=0.23.0->openai) (2025.6.15)\n",
      "Requirement already satisfied: httpcore==1.* in d:\\work\\multililpi\\laughing-garbanzo\\.venv\\lib\\site-packages (from httpx<1,>=0.23.0->openai) (1.0.9)\n",
      "Requirement already satisfied: h11>=0.16 in d:\\work\\multililpi\\laughing-garbanzo\\.venv\\lib\\site-packages (from httpcore==1.*->httpx<1,>=0.23.0->openai) (0.16.0)\n",
      "Requirement already satisfied: annotated-types>=0.6.0 in d:\\work\\multililpi\\laughing-garbanzo\\.venv\\lib\\site-packages (from pydantic<3,>=1.9.0->openai) (0.7.0)\n",
      "Requirement already satisfied: pydantic-core==2.33.2 in d:\\work\\multililpi\\laughing-garbanzo\\.venv\\lib\\site-packages (from pydantic<3,>=1.9.0->openai) (2.33.2)\n",
      "Requirement already satisfied: typing-inspection>=0.4.0 in d:\\work\\multililpi\\laughing-garbanzo\\.venv\\lib\\site-packages (from pydantic<3,>=1.9.0->openai) (0.4.1)\n",
      "Requirement already satisfied: colorama in d:\\work\\multililpi\\laughing-garbanzo\\.venv\\lib\\site-packages (from tqdm>4->openai) (0.4.6)\n"
     ]
    },
    {
     "name": "stderr",
     "output_type": "stream",
     "text": [
      "\n",
      "[notice] A new release of pip is available: 23.1.2 -> 25.1.1\n",
      "[notice] To update, run: python.exe -m pip install --upgrade pip\n"
     ]
    }
   ],
   "source": [
    "! pip install openai"
   ]
  },
  {
   "cell_type": "code",
   "execution_count": 2,
   "id": "9e3841a9",
   "metadata": {},
   "outputs": [
    {
     "data": {
      "text/plain": [
       "True"
      ]
     },
     "execution_count": 2,
     "metadata": {},
     "output_type": "execute_result"
    }
   ],
   "source": [
    "import os\n",
    "import base64\n",
    "from openai import AzureOpenAI\n",
    "from dotenv import load_dotenv\n",
    "load_dotenv()"
   ]
  },
  {
   "cell_type": "code",
   "execution_count": 3,
   "id": "ae389bf7",
   "metadata": {},
   "outputs": [],
   "source": [
    "endpoint = os.getenv(\"ENDPOINT_URL\", \"https://aisuggestionmultilipi.openai.azure.com/\")\n",
    "deployment = os.getenv(\"DEPLOYMENT_NAME\", \"gpt-4.1-nano\")\n",
    "subscription_key = os.getenv(\"AZURE_OPENAI_API_KEY\", \"REPLACE_WITH_YOUR_KEY_VALUE_HERE\")\n",
    "\n",
    "# Initialize Azure OpenAI client with key-based authentication\n",
    "client = AzureOpenAI(\n",
    "    azure_endpoint=endpoint,\n",
    "    api_key=subscription_key,\n",
    "    api_version=\"2025-01-01-preview\",\n",
    ")\n"
   ]
  },
  {
   "cell_type": "code",
   "execution_count": null,
   "id": "f7bce40f",
   "metadata": {},
   "outputs": [],
   "source": [
    "chat_prompt = [\n",
    "    {\n",
    "        \"role\": \"system\",\n",
    "        \"content\": [\n",
    "            {\n",
    "                \"type\": \"text\",\n",
    "                \"text\": \"This is the summaryu of a website.\\nTranslate your website into 120+ languages with multilingual SEO, automatically generating language-specific URLs, hreflang tags, and translated metadata. MultiLipi offers AI-powered translation, seamless integrations with popular platforms, and a user-friendly dashboard for managing multilingual content and SEO. . the user have some issues with the content of the website. The user will provide the issue type and the element that needs to be fixed. You need to provide a solution for the issue based on the content of the website.Give the user the correct statement that should replace the current text . The solution should be in a single line and should not contain any code or HTML tags. The solution should be in English.\"\n",
    "            }\n",
    "        ]\n",
    "    },\n",
    "    {\n",
    "        \"role\": \"user\",\n",
    "        \"content\": [\n",
    "            {\n",
    "                \"type\": \"text\",\n",
    "                \"text\": \"issue_type:Title could be optimized,issue_decription:Title is 60 characters, ideal range is 150-160,current_contetn:MultiLipi| Translate Website in 5 Mins with Multilingual SEO\"\n",
    "            }\n",
    "        ]\n",
    "    }\n",
    "]"
   ]
  },
  {
   "cell_type": "code",
   "execution_count": 23,
   "id": "9fe9b21e",
   "metadata": {},
   "outputs": [],
   "source": [
    "messages = chat_prompt\n",
    "\n",
    "# Generate the completion\n",
    "completion = client.chat.completions.create(\n",
    "    model=deployment,\n",
    "    messages=messages,\n",
    "    max_tokens=800,\n",
    "    temperature=1,\n",
    "    top_p=1,\n",
    "    frequency_penalty=0,\n",
    "    presence_penalty=0,\n",
    "    stop=None,\n",
    "    stream=False\n",
    ")\n"
   ]
  },
  {
   "cell_type": "code",
   "execution_count": 35,
   "id": "0c8ca40a",
   "metadata": {},
   "outputs": [
    {
     "name": "stdout",
     "output_type": "stream",
     "text": [
      "MultiLipi enables quick, AI-powered translation of websites into 120+ languages with no-code setup, allowing users to launch multilingual, SEO-optimized sites instantly. It offers features like analytics, automatic SEO implementation, seamless integration with platforms such as WordPress, Shopify, and Wix, and manual editing capabilities. The platform supports multiple languages, including Indian languages, and uses best SEO practices like hreflang tags and language-specific URLs to enhance global visibility. Suitable for businesses and agencies, it provides secure storage, manageable multiple websites, and detailed translation estimates, promoting international growth and engagement.\n"
     ]
    }
   ],
   "source": [
    "print(completion.choices[0].message.content)"
   ]
  },
  {
   "cell_type": "code",
   "execution_count": 26,
   "id": "603691dd",
   "metadata": {},
   "outputs": [],
   "source": [
    "import requests\n",
    "from urllib3.util.retry import Retry\n",
    "from requests.adapters import HTTPAdapter\n",
    "from urllib.parse import urlparse\n",
    "class URLFetcher:\n",
    "    def __init__(self):\n",
    "        self.session = requests.Session()\n",
    "        \n",
    "        # Set up retry strategy\n",
    "        retry_strategy = Retry(\n",
    "            total=3,\n",
    "            backoff_factor=1,\n",
    "            status_forcelist=[429, 500, 502, 503, 504],\n",
    "        )\n",
    "        \n",
    "        adapter = HTTPAdapter(max_retries=retry_strategy)\n",
    "        self.session.mount(\"http://\", adapter)\n",
    "        self.session.mount(\"https://\", adapter)\n",
    "        \n",
    "        # Set headers to mimic a real browser\n",
    "        self.session.headers.update({\n",
    "            'User-Agent': 'Mozilla/5.0 (Windows NT 10.0; Win64; x64) AppleWebKit/537.36 (KHTML, like Gecko) Chrome/91.0.4472.124 Safari/537.36'\n",
    "        })\n",
    "    \n",
    "    def fetch_url(self, url):\n",
    "        \"\"\"Fetch HTML content from a URL\"\"\"\n",
    "        try:\n",
    "            # Validate URL\n",
    "            parsed = urlparse(url)\n",
    "            if not parsed.scheme:\n",
    "                url = 'https://' + url\n",
    "            \n",
    "            # Set timeout\n",
    "            response = self.session.get(url, timeout=10)\n",
    "            response.raise_for_status()\n",
    "            \n",
    "            return {\n",
    "                'success': True,\n",
    "                'html': response.text,\n",
    "                'status_code': response.status_code,\n",
    "                'final_url': response.url\n",
    "            }\n",
    "            \n",
    "        except requests.exceptions.RequestException as e:\n",
    "            return {\n",
    "                'success': False,\n",
    "                'error': str(e),\n",
    "                'html': None\n",
    "            }\n",
    "        except Exception as e:\n",
    "            return {\n",
    "                'success': False,\n",
    "                'error': f'Unexpected error: {str(e)}',\n",
    "                'html': None\n",
    "            }\n"
   ]
  },
  {
   "cell_type": "code",
   "execution_count": 29,
   "id": "1576576e",
   "metadata": {},
   "outputs": [],
   "source": [
    "\n",
    "from webalgo import HTMLSEOScanner\n",
    "url=\"https://multilipi.com/\"\n",
    "fetcher = URLFetcher()\n",
    "fetch_result = fetcher.fetch_url(url)\n",
    "\n",
    "if not fetch_result['success']:\n",
    "    print(f\"Failed to fetch URL: {fetch_result['error']}\")\n",
    "    # return jsonify({\n",
    "    #     'success': False,\n",
    "    #     'error': f'Failed to fetch URL: {fetch_result[\"error\"]}'\n",
    "    # })\n",
    "\n",
    "# Scan HTML content\n",
    "# Uncomment the following lines when you import your scanner\n",
    "scanner = HTMLSEOScanner()\n",
    "\n",
    "page_text=scanner.extract_page_content(fetch_result['html'])"
   ]
  },
  {
   "cell_type": "code",
   "execution_count": null,
   "id": "58e616a8",
   "metadata": {},
   "outputs": [],
   "source": [
    "chat_prompt = [\n",
    "    {\n",
    "        \"role\": \"system\",\n",
    "        \"content\": [\n",
    "            {\n",
    "                \"type\": \"text\",\n",
    "                \"text\": '''You will be given a text content of a website by the user. summarize the text  into  a shorter form such that summary can be used later as context to firther improve the content.ruturn only the summary without any additional text or explanation. The summary should be concise and capture the main points of the content.'''\n",
    "            }\n",
    "        ]\n",
    "    },\n",
    "    {\n",
    "        \"role\": \"user\",\n",
    "        \"content\": [\n",
    "            {\n",
    "                \"type\": \"text\",\n",
    "                \"text\": f\"{page_text}\"\n",
    "            }\n",
    "        ]\n",
    "    }\n",
    "]"
   ]
  },
  {
   "cell_type": "code",
   "execution_count": 32,
   "id": "b8fdc8a8",
   "metadata": {},
   "outputs": [],
   "source": [
    "messages = chat_prompt\n",
    "\n",
    "# Generate the completion\n",
    "completion = client.chat.completions.create(\n",
    "    model=deployment,\n",
    "    messages=messages,\n",
    "    max_tokens=800,\n",
    "    temperature=1,\n",
    "    top_p=1,\n",
    "    frequency_penalty=0,\n",
    "    presence_penalty=0,\n",
    "    stop=None,\n",
    "    stream=False\n",
    ")\n"
   ]
  },
  {
   "cell_type": "code",
   "execution_count": 38,
   "id": "7733dcb7",
   "metadata": {},
   "outputs": [
    {
     "name": "stdout",
     "output_type": "stream",
     "text": [
      "MultiLipi enables quick, AI-powered translation of websites into 120+ languages with no-code setup, allowing users to launch multilingual, SEO-optimized sites instantly. It offers features like analytics, automatic SEO implementation, seamless integration with platforms such as WordPress, Shopify, and Wix, and manual editing capabilities. The platform supports multiple languages, including Indian languages, and uses best SEO practices like hreflang tags and language-specific URLs to enhance global visibility. Suitable for businesses and agencies, it provides secure storage, manageable multiple websites, and detailed translation estimates, promoting international growth and engagement.\n"
     ]
    }
   ],
   "source": [
    "print(completion.choices[0].message.content)"
   ]
  },
  {
   "cell_type": "code",
   "execution_count": 42,
   "id": "cb39913c",
   "metadata": {},
   "outputs": [],
   "source": [
    "chat_prompt = [\n",
    "    {\n",
    "        \"role\": \"system\",\n",
    "        \"content\": [\n",
    "            {\n",
    "                \"type\": \"text\",\n",
    "                \"text\": '''You will be given a url of a website by the user. summarize the content  into  a short form such that summary can be used later as context to further improve the content.ruturn only the summary without any additional text or explanation. The summary should be concise and capture the main points of the content.'''\n",
    "            }\n",
    "        ]\n",
    "    },\n",
    "    {\n",
    "        \"role\": \"user\",\n",
    "        \"content\": [\n",
    "            {\n",
    "                \"type\": \"text\",\n",
    "                \"text\": f\"yoitabi.jp\"\n",
    "            }\n",
    "        ]\n",
    "    }\n",
    "]"
   ]
  },
  {
   "cell_type": "code",
   "execution_count": 43,
   "id": "94c4baa1",
   "metadata": {},
   "outputs": [],
   "source": [
    "messages = chat_prompt\n",
    "\n",
    "# Generate the completion\n",
    "completion = client.chat.completions.create(\n",
    "    model=deployment,\n",
    "    messages=messages,\n",
    "    max_tokens=800,\n",
    "    temperature=1,\n",
    "    top_p=1,\n",
    "    frequency_penalty=0,\n",
    "    presence_penalty=0,\n",
    "    stop=None,\n",
    "    stream=False\n",
    ")"
   ]
  },
  {
   "cell_type": "code",
   "execution_count": 44,
   "id": "617fc1fa",
   "metadata": {},
   "outputs": [
    {
     "name": "stdout",
     "output_type": "stream",
     "text": [
      "{\n",
      "  \"id\": \"chatcmpl-BrjKscWnBuZ4Kopxhb1uvHASjhOME\",\n",
      "  \"choices\": [\n",
      "    {\n",
      "      \"finish_reason\": \"stop\",\n",
      "      \"index\": 0,\n",
      "      \"logprobs\": null,\n",
      "      \"message\": {\n",
      "        \"content\": \"Yoitabi.jp offers travel tips, guides, and resources for exploring Japan, including popular destinations, activities, local culture, and travel planning advice.\",\n",
      "        \"refusal\": null,\n",
      "        \"role\": \"assistant\",\n",
      "        \"annotations\": []\n",
      "      },\n",
      "      \"content_filter_results\": {\n",
      "        \"hate\": {\n",
      "          \"filtered\": false,\n",
      "          \"severity\": \"safe\"\n",
      "        },\n",
      "        \"self_harm\": {\n",
      "          \"filtered\": false,\n",
      "          \"severity\": \"safe\"\n",
      "        },\n",
      "        \"sexual\": {\n",
      "          \"filtered\": false,\n",
      "          \"severity\": \"safe\"\n",
      "        },\n",
      "        \"violence\": {\n",
      "          \"filtered\": false,\n",
      "          \"severity\": \"safe\"\n",
      "        }\n",
      "      }\n",
      "    }\n",
      "  ],\n",
      "  \"created\": 1752145354,\n",
      "  \"model\": \"gpt-4.1-nano-2025-04-14\",\n",
      "  \"object\": \"chat.completion\",\n",
      "  \"system_fingerprint\": \"fp_68472df8fd\",\n",
      "  \"usage\": {\n",
      "    \"completion_tokens\": 31,\n",
      "    \"prompt_tokens\": 78,\n",
      "    \"total_tokens\": 109,\n",
      "    \"completion_tokens_details\": {\n",
      "      \"accepted_prediction_tokens\": 0,\n",
      "      \"audio_tokens\": 0,\n",
      "      \"reasoning_tokens\": 0,\n",
      "      \"rejected_prediction_tokens\": 0\n",
      "    },\n",
      "    \"prompt_tokens_details\": {\n",
      "      \"audio_tokens\": 0,\n",
      "      \"cached_tokens\": 0\n",
      "    }\n",
      "  },\n",
      "  \"prompt_filter_results\": [\n",
      "    {\n",
      "      \"prompt_index\": 0,\n",
      "      \"content_filter_results\": {\n",
      "        \"hate\": {\n",
      "          \"filtered\": false,\n",
      "          \"severity\": \"safe\"\n",
      "        },\n",
      "        \"jailbreak\": {\n",
      "          \"filtered\": false,\n",
      "          \"detected\": false\n",
      "        },\n",
      "        \"self_harm\": {\n",
      "          \"filtered\": false,\n",
      "          \"severity\": \"safe\"\n",
      "        },\n",
      "        \"sexual\": {\n",
      "          \"filtered\": false,\n",
      "          \"severity\": \"safe\"\n",
      "        },\n",
      "        \"violence\": {\n",
      "          \"filtered\": false,\n",
      "          \"severity\": \"safe\"\n",
      "        }\n",
      "      }\n",
      "    }\n",
      "  ]\n",
      "}\n"
     ]
    }
   ],
   "source": [
    "print(completion.to_json())"
   ]
  },
  {
   "cell_type": "code",
   "execution_count": 47,
   "id": "2ff58c6e",
   "metadata": {},
   "outputs": [],
   "source": [
    "IMAGE_PATH = r\"C:\\Users\\heman\\OneDrive\\Desktop\\20240609234626858.jpg\"\n",
    "encoded_image = base64.b64encode(open(IMAGE_PATH, 'rb').read()).decode('ascii')"
   ]
  },
  {
   "cell_type": "code",
   "execution_count": 48,
   "id": "ea49b1f9",
   "metadata": {},
   "outputs": [],
   "source": [
    "chat_prompt = [\n",
    "    {\n",
    "        \"role\": \"system\",\n",
    "        \"content\": [\n",
    "            {\n",
    "                \"type\": \"text\",\n",
    "                \"text\": \"This is the summary of a website.\\nTranslate your website into 120+ languages with multilingual SEO, automatically generating language-specific URLs, hreflang tags, and translated metadata. MultiLipi offers AI-powered translation, seamless integrations with popular platforms, and a user-friendly dashboard for managing multilingual content and SEO. . the user have some issues with the content of the website. The user will provide an image whose alt tag content needs to be fixed. user will provide the present content and description along with the image . You need to provide a description of the image for the image based on the content of the website.Give the user the correct statement that should replace the current text . The solution should be in a single line and should not contain any code or HTML tags. The solution should be in English.no extra explanation needs to be given\"\n",
    "            }\n",
    "        ]\n",
    "    },\n",
    "    {\n",
    "        \"role\": \"user\",\n",
    "        \"content\": [\n",
    "            {\n",
    "                \"type\": \"text\",\n",
    "                \"text\": \"\\n\"\n",
    "            },\n",
    "            {\n",
    "                \"type\": \"image_url\",\n",
    "                \"image_url\": {\n",
    "                    \"url\": f\"data:image/jpeg;base64,{encoded_image}\"\n",
    "                }\n",
    "            },\n",
    "            {\n",
    "                \"type\": \"text\",\n",
    "                \"text\": \"issue : no alt tag present\"\n",
    "            }\n",
    "        ]\n",
    "    }\n",
    "]"
   ]
  },
  {
   "cell_type": "code",
   "execution_count": 49,
   "id": "72d0cd3c",
   "metadata": {},
   "outputs": [],
   "source": [
    "messages = chat_prompt\n",
    "\n",
    "# Generate the completion\n",
    "completion = client.chat.completions.create(\n",
    "    model=deployment,\n",
    "    messages=messages,\n",
    "    max_tokens=800,\n",
    "    temperature=1,\n",
    "    top_p=1,\n",
    "    frequency_penalty=0,\n",
    "    presence_penalty=0,\n",
    "    stop=None,\n",
    "    stream=False\n",
    ")"
   ]
  },
  {
   "cell_type": "code",
   "execution_count": 51,
   "id": "78c8829e",
   "metadata": {},
   "outputs": [
    {
     "name": "stdout",
     "output_type": "stream",
     "text": [
      "{\n",
      "  \"id\": \"chatcmpl-Brjaic0S9NjxWfIJPRvy24hFSpXgI\",\n",
      "  \"choices\": [\n",
      "    {\n",
      "      \"finish_reason\": \"stop\",\n",
      "      \"index\": 0,\n",
      "      \"logprobs\": null,\n",
      "      \"message\": {\n",
      "        \"content\": \"A man standing outdoors in front of a scenic mountain landscape holding a camera with trees and snowy peaks in the background.\",\n",
      "        \"refusal\": null,\n",
      "        \"role\": \"assistant\",\n",
      "        \"annotations\": []\n",
      "      },\n",
      "      \"content_filter_results\": {\n",
      "        \"hate\": {\n",
      "          \"filtered\": false,\n",
      "          \"severity\": \"safe\"\n",
      "        },\n",
      "        \"self_harm\": {\n",
      "          \"filtered\": false,\n",
      "          \"severity\": \"safe\"\n",
      "        },\n",
      "        \"sexual\": {\n",
      "          \"filtered\": false,\n",
      "          \"severity\": \"safe\"\n",
      "        },\n",
      "        \"violence\": {\n",
      "          \"filtered\": false,\n",
      "          \"severity\": \"safe\"\n",
      "        }\n",
      "      }\n",
      "    }\n",
      "  ],\n",
      "  \"created\": 1752146336,\n",
      "  \"model\": \"gpt-4.1-nano-2025-04-14\",\n",
      "  \"object\": \"chat.completion\",\n",
      "  \"system_fingerprint\": \"fp_68472df8fd\",\n",
      "  \"usage\": {\n",
      "    \"completion_tokens\": 24,\n",
      "    \"prompt_tokens\": 1177,\n",
      "    \"total_tokens\": 1201,\n",
      "    \"completion_tokens_details\": {\n",
      "      \"accepted_prediction_tokens\": 0,\n",
      "      \"audio_tokens\": 0,\n",
      "      \"reasoning_tokens\": 0,\n",
      "      \"rejected_prediction_tokens\": 0\n",
      "    },\n",
      "    \"prompt_tokens_details\": {\n",
      "      \"audio_tokens\": 0,\n",
      "      \"cached_tokens\": 0\n",
      "    }\n",
      "  },\n",
      "  \"prompt_filter_results\": [\n",
      "    {\n",
      "      \"prompt_index\": 0,\n",
      "      \"content_filter_result\": {\n",
      "        \"jailbreak\": {\n",
      "          \"filtered\": false,\n",
      "          \"detected\": false\n",
      "        },\n",
      "        \"custom_blocklists\": {\n",
      "          \"filtered\": false,\n",
      "          \"details\": []\n",
      "        }\n",
      "      }\n",
      "    },\n",
      "    {\n",
      "      \"prompt_index\": 2,\n",
      "      \"content_filter_result\": {\n",
      "        \"sexual\": {\n",
      "          \"filtered\": false,\n",
      "          \"severity\": \"safe\"\n",
      "        },\n",
      "        \"violence\": {\n",
      "          \"filtered\": false,\n",
      "          \"severity\": \"safe\"\n",
      "        },\n",
      "        \"hate\": {\n",
      "          \"filtered\": false,\n",
      "          \"severity\": \"safe\"\n",
      "        },\n",
      "        \"self_harm\": {\n",
      "          \"filtered\": false,\n",
      "          \"severity\": \"safe\"\n",
      "        },\n",
      "        \"custom_blocklists\": {\n",
      "          \"filtered\": false,\n",
      "          \"details\": []\n",
      "        }\n",
      "      }\n",
      "    }\n",
      "  ]\n",
      "}\n"
     ]
    }
   ],
   "source": [
    "print(completion.to_json())"
   ]
  },
  {
   "cell_type": "code",
   "execution_count": 52,
   "id": "2e0c2c86",
   "metadata": {},
   "outputs": [
    {
     "ename": "SyntaxError",
     "evalue": "invalid syntax (2993132093.py, line 1)",
     "output_type": "error",
     "traceback": [
      "  \u001b[36mCell\u001b[39m\u001b[36m \u001b[39m\u001b[32mIn[52]\u001b[39m\u001b[32m, line 1\u001b[39m\n\u001b[31m    \u001b[39m\u001b[31mpage_url, org_text, target_lang, tag, company_context=>str\u001b[39m\n                                                          ^\n\u001b[31mSyntaxError\u001b[39m\u001b[31m:\u001b[39m invalid syntax\n"
     ]
    }
   ],
   "source": [
    "page_url, org_text, target_lang, tag, company_context=>str"
   ]
  },
  {
   "cell_type": "code",
   "execution_count": null,
   "id": "d9da3167",
   "metadata": {},
   "outputs": [],
   "source": [
    "chat_"
   ]
  }
 ],
 "metadata": {
  "kernelspec": {
   "display_name": ".venv",
   "language": "python",
   "name": "python3"
  },
  "language_info": {
   "codemirror_mode": {
    "name": "ipython",
    "version": 3
   },
   "file_extension": ".py",
   "mimetype": "text/x-python",
   "name": "python",
   "nbconvert_exporter": "python",
   "pygments_lexer": "ipython3",
   "version": "3.11.4"
  }
 },
 "nbformat": 4,
 "nbformat_minor": 5
}
